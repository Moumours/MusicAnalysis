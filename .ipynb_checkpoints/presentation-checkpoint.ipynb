{
 "cells": [
  {
   "metadata": {},
   "cell_type": "markdown",
   "source": [
    "# Spotify Liked Songs Analysis\n",
    "\n",
    "This notebook fetches and visualizes data from my Spotify liked songs playlist.\n",
    "\n"
   ],
   "id": "f5a4f6aeb0371ff5"
  },
  {
   "metadata": {},
   "cell_type": "markdown",
   "source": "## Setup and Initialization",
   "id": "7af1cb4e629420b9"
  },
  {
   "metadata": {},
   "cell_type": "markdown",
   "source": "### Importations",
   "id": "31da4ecabf759a54"
  },
  {
   "cell_type": "code",
   "id": "initial_id",
   "metadata": {
    "collapsed": true,
    "ExecuteTime": {
     "end_time": "2024-07-27T09:48:59.701883Z",
     "start_time": "2024-07-27T09:48:58.026651Z"
    }
   },
   "source": [
    "import pandas as pd\n",
    "\n",
    "from gen_Spotify import SpotifyData\n",
    "from graphs import Graph"
   ],
   "outputs": [
    {
     "ename": "ModuleNotFoundError",
     "evalue": "No module named 'spotipy'",
     "output_type": "error",
     "traceback": [
      "\u001B[0;31m---------------------------------------------------------------------------\u001B[0m",
      "\u001B[0;31mModuleNotFoundError\u001B[0m                       Traceback (most recent call last)",
      "Cell \u001B[0;32mIn[1], line 3\u001B[0m\n\u001B[1;32m      1\u001B[0m \u001B[38;5;28;01mimport\u001B[39;00m \u001B[38;5;21;01mpandas\u001B[39;00m \u001B[38;5;28;01mas\u001B[39;00m \u001B[38;5;21;01mpd\u001B[39;00m\n\u001B[0;32m----> 3\u001B[0m \u001B[38;5;28;01mfrom\u001B[39;00m \u001B[38;5;21;01mgen_Spotify\u001B[39;00m \u001B[38;5;28;01mimport\u001B[39;00m SpotifyData\n\u001B[1;32m      4\u001B[0m \u001B[38;5;28;01mfrom\u001B[39;00m \u001B[38;5;21;01mgraphs\u001B[39;00m \u001B[38;5;28;01mimport\u001B[39;00m Graph\n",
      "File \u001B[0;32m~/Desktop/EssaisCode/ProjetsGitHub/MusicAnalysis/gen_Spotify.py:1\u001B[0m\n\u001B[0;32m----> 1\u001B[0m \u001B[38;5;28;01mimport\u001B[39;00m \u001B[38;5;21;01mspotipy\u001B[39;00m\n\u001B[1;32m      2\u001B[0m \u001B[38;5;28;01mfrom\u001B[39;00m \u001B[38;5;21;01mspotipy\u001B[39;00m\u001B[38;5;21;01m.\u001B[39;00m\u001B[38;5;21;01moauth2\u001B[39;00m \u001B[38;5;28;01mimport\u001B[39;00m SpotifyOAuth\n\u001B[1;32m      3\u001B[0m \u001B[38;5;28;01mimport\u001B[39;00m \u001B[38;5;21;01mos\u001B[39;00m\n",
      "\u001B[0;31mModuleNotFoundError\u001B[0m: No module named 'spotipy'"
     ]
    }
   ],
   "execution_count": 1
  },
  {
   "metadata": {},
   "cell_type": "markdown",
   "source": "",
   "id": "bd14bbc70cee7ff8"
  },
  {
   "metadata": {},
   "cell_type": "markdown",
   "source": "",
   "id": "17911fdd14679f09"
  },
  {
   "metadata": {},
   "cell_type": "markdown",
   "source": "### Spotify Data Retrieval",
   "id": "17d20b1177f95982"
  },
  {
   "metadata": {},
   "cell_type": "code",
   "source": [
    "# Initialize the SpotifyData class\n",
    "spotify_data = SpotifyData()\n",
    "\n",
    "# Check if Spotify API client is set up\n",
    "if spotify_data.sp:\n",
    "    # Fetch user data\n",
    "    spotify_data.get_user_data()\n",
    "    \n",
    "    # Load favorite songs data\n",
    "    spotify_data.load_spotify_favorite_songs()\n",
    "    \n",
    "    # Convert data to DataFrame for analysis\n",
    "    df_songs = pd.DataFrame(spotify_data.songs)\n",
    "    \n",
    "    # Display first few rows of the DataFrame\n",
    "    df_songs.head()\n",
    "else:\n",
    "    print(\"Failed to set up Spotify API client.\")"
   ],
   "id": "63766d493708d9a9",
   "outputs": [],
   "execution_count": null
  },
  {
   "metadata": {},
   "cell_type": "markdown",
   "source": "## Data Vizualisation",
   "id": "a008d656263f0d4e"
  },
  {
   "metadata": {},
   "cell_type": "code",
   "source": "graph = Graph(spotify_data)",
   "id": "de16d3b0c54f022a",
   "outputs": [],
   "execution_count": null
  },
  {
   "metadata": {},
   "cell_type": "code",
   "source": "graph.draw_top_artists(30)",
   "id": "aeeff48ad73e2ad1",
   "outputs": [],
   "execution_count": null
  },
  {
   "metadata": {},
   "cell_type": "code",
   "source": "graph.draw_artist_histogram()",
   "id": "7f9360a1e0067138",
   "outputs": [],
   "execution_count": null
  },
  {
   "metadata": {},
   "cell_type": "code",
   "source": "graph.draw_duration_histogram()",
   "id": "3eb184617b7f9e5f",
   "outputs": [],
   "execution_count": null
  },
  {
   "metadata": {},
   "cell_type": "code",
   "source": "graph.draw_countries_by_songs()",
   "id": "a78a4df8c1e2390f",
   "outputs": [],
   "execution_count": null
  },
  {
   "metadata": {},
   "cell_type": "code",
   "source": "graph.draw_countries_by_unique_artists()",
   "id": "803a674f964dc076",
   "outputs": [],
   "execution_count": null
  },
  {
   "metadata": {},
   "cell_type": "code",
   "source": "graph.display_artists_by_country(\"US\")",
   "id": "a175a3d232d23a6f",
   "outputs": [],
   "execution_count": null
  },
  {
   "metadata": {},
   "cell_type": "code",
   "source": "graph.draw_artists_pie_chart_by_country(\"Unknown\")",
   "id": "4d361f0135b0c8c4",
   "outputs": [],
   "execution_count": null
  },
  {
   "metadata": {},
   "cell_type": "code",
   "source": "graph.draw_histogram_by_release_year()",
   "id": "e67f08bb38eb4c83",
   "outputs": [],
   "execution_count": null
  },
  {
   "metadata": {},
   "cell_type": "code",
   "source": "graph.draw_histogram_by_add_time(\"hour\")",
   "id": "d130825d4580768",
   "outputs": [],
   "execution_count": null
  }
 ],
 "metadata": {
  "kernelspec": {
   "display_name": "Python 3",
   "language": "python",
   "name": "python3"
  },
  "language_info": {
   "codemirror_mode": {
    "name": "ipython",
    "version": 2
   },
   "file_extension": ".py",
   "mimetype": "text/x-python",
   "name": "python",
   "nbconvert_exporter": "python",
   "pygments_lexer": "ipython2",
   "version": "2.7.6"
  }
 },
 "nbformat": 4,
 "nbformat_minor": 5
}
